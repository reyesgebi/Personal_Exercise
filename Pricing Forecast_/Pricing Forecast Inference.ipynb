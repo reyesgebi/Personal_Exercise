{
 "cells": [
  {
   "cell_type": "code",
   "execution_count": 1,
   "metadata": {},
   "outputs": [],
   "source": [
    "import pandas as pd\n",
    "import numpy as np\n",
    "import json\n",
    "import joblib"
   ]
  },
  {
   "cell_type": "code",
   "execution_count": 10,
   "metadata": {},
   "outputs": [],
   "source": [
    "# Open Files\n",
    "\n",
    "with open('LinearRegression.pkl', 'rb') as file_1:\n",
    "   regression_model = joblib.load(file_1)\n",
    "\n",
    "with open('scaling_mod.pkl', 'rb') as file_2:\n",
    "   scaling_model = joblib.load(file_2)\n",
    "\n",
    "with open('ordinal_mod.pkl', 'rb') as file_3:\n",
    "   ordinal_model = joblib.load(file_3)\n",
    "\n",
    "with open('OHE_mod.pkl', 'rb') as file_4:\n",
    "    ohe_model = joblib.load(file_4)\n",
    "\n",
    "with open('num_features.txt', 'r') as file_5:\n",
    "    numcol = json.load(file_5)\n",
    "\n",
    "with open('cat_features.txt', 'r') as file_6:\n",
    "    catcol = json.load(file_6)\n"
   ]
  },
  {
   "cell_type": "code",
   "execution_count": 12,
   "metadata": {},
   "outputs": [
    {
     "data": {
      "text/html": [
       "<div>\n",
       "<style scoped>\n",
       "    .dataframe tbody tr th:only-of-type {\n",
       "        vertical-align: middle;\n",
       "    }\n",
       "\n",
       "    .dataframe tbody tr th {\n",
       "        vertical-align: top;\n",
       "    }\n",
       "\n",
       "    .dataframe thead th {\n",
       "        text-align: right;\n",
       "    }\n",
       "</style>\n",
       "<table border=\"1\" class=\"dataframe\">\n",
       "  <thead>\n",
       "    <tr style=\"text-align: right;\">\n",
       "      <th></th>\n",
       "      <th>distance</th>\n",
       "      <th>product_id</th>\n",
       "      <th>surge_multiplier</th>\n",
       "    </tr>\n",
       "  </thead>\n",
       "  <tbody>\n",
       "    <tr>\n",
       "      <th>0</th>\n",
       "      <td>5.3</td>\n",
       "      <td>lyft_lux</td>\n",
       "      <td>2.0</td>\n",
       "    </tr>\n",
       "    <tr>\n",
       "      <th>1</th>\n",
       "      <td>5.2</td>\n",
       "      <td>lyft_plus</td>\n",
       "      <td>1.5</td>\n",
       "    </tr>\n",
       "    <tr>\n",
       "      <th>2</th>\n",
       "      <td>4.6</td>\n",
       "      <td>lyft_luxsuv</td>\n",
       "      <td>2.5</td>\n",
       "    </tr>\n",
       "  </tbody>\n",
       "</table>\n",
       "</div>"
      ],
      "text/plain": [
       "   distance   product_id  surge_multiplier\n",
       "0       5.3     lyft_lux               2.0\n",
       "1       5.2    lyft_plus               1.5\n",
       "2       4.6  lyft_luxsuv               2.5"
      ]
     },
     "execution_count": 12,
     "metadata": {},
     "output_type": "execute_result"
    }
   ],
   "source": [
    "# Creating new DataFrame for the Model Inference\n",
    "new_data = pd.DataFrame({\n",
    "    'distance': [5.3, 5.2, 4.6],\n",
    "    'product_id': ['lyft_lux','lyft_plus','lyft_luxsuv'],\n",
    "    'surge_multiplier': [2.0, 1.5, 2.5],\n",
    "})\n",
    "new_data"
   ]
  },
  {
   "cell_type": "code",
   "execution_count": 20,
   "metadata": {},
   "outputs": [
    {
     "data": {
      "text/plain": [
       "(['product_id', 'surge_multiplier'], ['distance'])"
      ]
     },
     "execution_count": 20,
     "metadata": {},
     "output_type": "execute_result"
    }
   ],
   "source": [
    "catcol,numcol"
   ]
  },
  {
   "attachments": {},
   "cell_type": "markdown",
   "metadata": {},
   "source": [
    "OHE Handling"
   ]
  },
  {
   "cell_type": "code",
   "execution_count": 19,
   "metadata": {},
   "outputs": [
    {
     "data": {
      "text/html": [
       "<div>\n",
       "<style scoped>\n",
       "    .dataframe tbody tr th:only-of-type {\n",
       "        vertical-align: middle;\n",
       "    }\n",
       "\n",
       "    .dataframe tbody tr th {\n",
       "        vertical-align: top;\n",
       "    }\n",
       "\n",
       "    .dataframe thead th {\n",
       "        text-align: right;\n",
       "    }\n",
       "</style>\n",
       "<table border=\"1\" class=\"dataframe\">\n",
       "  <thead>\n",
       "    <tr style=\"text-align: right;\">\n",
       "      <th></th>\n",
       "      <th>55c66225-fbe7-4fd5-9072-eab1ece5e23e</th>\n",
       "      <th>6c84fd89-3f11-4782-9b50-97c468b19529</th>\n",
       "      <th>6d318bcc-22a3-4af6-bddd-b409bfce1546</th>\n",
       "      <th>6f72dfc5-27f1-42e8-84db-ccc7a75f6969</th>\n",
       "      <th>8cf7e821-f0d3-49c6-8eba-e679c0ebcf6a</th>\n",
       "      <th>997acbb5-e102-41e1-b155-9df7de0a73f2</th>\n",
       "      <th>9a0e7b09-b92b-4c41-9779-2ad22b4d779d</th>\n",
       "      <th>lyft</th>\n",
       "      <th>lyft_line</th>\n",
       "      <th>lyft_lux</th>\n",
       "      <th>lyft_luxsuv</th>\n",
       "      <th>lyft_plus</th>\n",
       "      <th>lyft_premier</th>\n",
       "    </tr>\n",
       "  </thead>\n",
       "  <tbody>\n",
       "    <tr>\n",
       "      <th>0</th>\n",
       "      <td>0.0</td>\n",
       "      <td>0.0</td>\n",
       "      <td>0.0</td>\n",
       "      <td>0.0</td>\n",
       "      <td>0.0</td>\n",
       "      <td>0.0</td>\n",
       "      <td>0.0</td>\n",
       "      <td>0.0</td>\n",
       "      <td>0.0</td>\n",
       "      <td>1.0</td>\n",
       "      <td>0.0</td>\n",
       "      <td>0.0</td>\n",
       "      <td>0.0</td>\n",
       "    </tr>\n",
       "    <tr>\n",
       "      <th>1</th>\n",
       "      <td>0.0</td>\n",
       "      <td>0.0</td>\n",
       "      <td>0.0</td>\n",
       "      <td>0.0</td>\n",
       "      <td>0.0</td>\n",
       "      <td>0.0</td>\n",
       "      <td>0.0</td>\n",
       "      <td>0.0</td>\n",
       "      <td>0.0</td>\n",
       "      <td>0.0</td>\n",
       "      <td>0.0</td>\n",
       "      <td>1.0</td>\n",
       "      <td>0.0</td>\n",
       "    </tr>\n",
       "    <tr>\n",
       "      <th>2</th>\n",
       "      <td>0.0</td>\n",
       "      <td>0.0</td>\n",
       "      <td>0.0</td>\n",
       "      <td>0.0</td>\n",
       "      <td>0.0</td>\n",
       "      <td>0.0</td>\n",
       "      <td>0.0</td>\n",
       "      <td>0.0</td>\n",
       "      <td>0.0</td>\n",
       "      <td>0.0</td>\n",
       "      <td>1.0</td>\n",
       "      <td>0.0</td>\n",
       "      <td>0.0</td>\n",
       "    </tr>\n",
       "  </tbody>\n",
       "</table>\n",
       "</div>"
      ],
      "text/plain": [
       "   55c66225-fbe7-4fd5-9072-eab1ece5e23e  6c84fd89-3f11-4782-9b50-97c468b19529  \\\n",
       "0                                   0.0                                   0.0   \n",
       "1                                   0.0                                   0.0   \n",
       "2                                   0.0                                   0.0   \n",
       "\n",
       "   6d318bcc-22a3-4af6-bddd-b409bfce1546  6f72dfc5-27f1-42e8-84db-ccc7a75f6969  \\\n",
       "0                                   0.0                                   0.0   \n",
       "1                                   0.0                                   0.0   \n",
       "2                                   0.0                                   0.0   \n",
       "\n",
       "   8cf7e821-f0d3-49c6-8eba-e679c0ebcf6a  997acbb5-e102-41e1-b155-9df7de0a73f2  \\\n",
       "0                                   0.0                                   0.0   \n",
       "1                                   0.0                                   0.0   \n",
       "2                                   0.0                                   0.0   \n",
       "\n",
       "   9a0e7b09-b92b-4c41-9779-2ad22b4d779d  lyft  lyft_line  lyft_lux  \\\n",
       "0                                   0.0   0.0        0.0       1.0   \n",
       "1                                   0.0   0.0        0.0       0.0   \n",
       "2                                   0.0   0.0        0.0       0.0   \n",
       "\n",
       "   lyft_luxsuv  lyft_plus  lyft_premier  \n",
       "0          0.0        0.0           0.0  \n",
       "1          0.0        1.0           0.0  \n",
       "2          1.0        0.0           0.0  "
      ]
     },
     "execution_count": 19,
     "metadata": {},
     "output_type": "execute_result"
    }
   ],
   "source": [
    "# Transforming new_data in OHE\n",
    "cat_ohe = pd.DataFrame(ohe_model.transform(new_data[['product_id']]))\n",
    "cat_ohe.columns = ohe_model.categories_[0]\n",
    "cat_ohe"
   ]
  },
  {
   "cell_type": "code",
   "execution_count": 21,
   "metadata": {},
   "outputs": [
    {
     "data": {
      "text/html": [
       "<div>\n",
       "<style scoped>\n",
       "    .dataframe tbody tr th:only-of-type {\n",
       "        vertical-align: middle;\n",
       "    }\n",
       "\n",
       "    .dataframe tbody tr th {\n",
       "        vertical-align: top;\n",
       "    }\n",
       "\n",
       "    .dataframe thead th {\n",
       "        text-align: right;\n",
       "    }\n",
       "</style>\n",
       "<table border=\"1\" class=\"dataframe\">\n",
       "  <thead>\n",
       "    <tr style=\"text-align: right;\">\n",
       "      <th></th>\n",
       "      <th>surge_multiplier</th>\n",
       "    </tr>\n",
       "  </thead>\n",
       "  <tbody>\n",
       "    <tr>\n",
       "      <th>0</th>\n",
       "      <td>4.0</td>\n",
       "    </tr>\n",
       "    <tr>\n",
       "      <th>1</th>\n",
       "      <td>2.0</td>\n",
       "    </tr>\n",
       "    <tr>\n",
       "      <th>2</th>\n",
       "      <td>5.0</td>\n",
       "    </tr>\n",
       "  </tbody>\n",
       "</table>\n",
       "</div>"
      ],
      "text/plain": [
       "   surge_multiplier\n",
       "0               4.0\n",
       "1               2.0\n",
       "2               5.0"
      ]
     },
     "execution_count": 21,
     "metadata": {},
     "output_type": "execute_result"
    }
   ],
   "source": [
    "# Transforming new_data in Ordinal\n",
    "cat_ord = pd.DataFrame(ordinal_model.transform(new_data[['surge_multiplier']]))\n",
    "cat_ord.columns = ['surge_multiplier']\n",
    "cat_ord"
   ]
  },
  {
   "cell_type": "code",
   "execution_count": 25,
   "metadata": {},
   "outputs": [
    {
     "data": {
      "text/html": [
       "<div>\n",
       "<style scoped>\n",
       "    .dataframe tbody tr th:only-of-type {\n",
       "        vertical-align: middle;\n",
       "    }\n",
       "\n",
       "    .dataframe tbody tr th {\n",
       "        vertical-align: top;\n",
       "    }\n",
       "\n",
       "    .dataframe thead th {\n",
       "        text-align: right;\n",
       "    }\n",
       "</style>\n",
       "<table border=\"1\" class=\"dataframe\">\n",
       "  <thead>\n",
       "    <tr style=\"text-align: right;\">\n",
       "      <th></th>\n",
       "      <th>distance</th>\n",
       "    </tr>\n",
       "  </thead>\n",
       "  <tbody>\n",
       "    <tr>\n",
       "      <th>0</th>\n",
       "      <td>3.001095</td>\n",
       "    </tr>\n",
       "    <tr>\n",
       "      <th>1</th>\n",
       "      <td>2.906091</td>\n",
       "    </tr>\n",
       "    <tr>\n",
       "      <th>2</th>\n",
       "      <td>2.336067</td>\n",
       "    </tr>\n",
       "  </tbody>\n",
       "</table>\n",
       "</div>"
      ],
      "text/plain": [
       "   distance\n",
       "0  3.001095\n",
       "1  2.906091\n",
       "2  2.336067"
      ]
     },
     "execution_count": 25,
     "metadata": {},
     "output_type": "execute_result"
    }
   ],
   "source": [
    "# Transforming new_data in Scaling\n",
    "num_scaled = pd.DataFrame(scaling_model.transform(new_data[['distance']]))\n",
    "num_scaled.columns = ['distance']\n",
    "num_scaled"
   ]
  },
  {
   "cell_type": "code",
   "execution_count": 24,
   "metadata": {},
   "outputs": [
    {
     "data": {
      "text/html": [
       "<div>\n",
       "<style scoped>\n",
       "    .dataframe tbody tr th:only-of-type {\n",
       "        vertical-align: middle;\n",
       "    }\n",
       "\n",
       "    .dataframe tbody tr th {\n",
       "        vertical-align: top;\n",
       "    }\n",
       "\n",
       "    .dataframe thead th {\n",
       "        text-align: right;\n",
       "    }\n",
       "</style>\n",
       "<table border=\"1\" class=\"dataframe\">\n",
       "  <thead>\n",
       "    <tr style=\"text-align: right;\">\n",
       "      <th></th>\n",
       "      <th>55c66225-fbe7-4fd5-9072-eab1ece5e23e</th>\n",
       "      <th>6c84fd89-3f11-4782-9b50-97c468b19529</th>\n",
       "      <th>6d318bcc-22a3-4af6-bddd-b409bfce1546</th>\n",
       "      <th>6f72dfc5-27f1-42e8-84db-ccc7a75f6969</th>\n",
       "      <th>8cf7e821-f0d3-49c6-8eba-e679c0ebcf6a</th>\n",
       "      <th>997acbb5-e102-41e1-b155-9df7de0a73f2</th>\n",
       "      <th>9a0e7b09-b92b-4c41-9779-2ad22b4d779d</th>\n",
       "      <th>lyft</th>\n",
       "      <th>lyft_line</th>\n",
       "      <th>lyft_lux</th>\n",
       "      <th>lyft_luxsuv</th>\n",
       "      <th>lyft_plus</th>\n",
       "      <th>lyft_premier</th>\n",
       "      <th>surge_multiplier</th>\n",
       "      <th>distance</th>\n",
       "    </tr>\n",
       "  </thead>\n",
       "  <tbody>\n",
       "    <tr>\n",
       "      <th>0</th>\n",
       "      <td>0.0</td>\n",
       "      <td>0.0</td>\n",
       "      <td>0.0</td>\n",
       "      <td>0.0</td>\n",
       "      <td>0.0</td>\n",
       "      <td>0.0</td>\n",
       "      <td>0.0</td>\n",
       "      <td>0.0</td>\n",
       "      <td>0.0</td>\n",
       "      <td>1.0</td>\n",
       "      <td>0.0</td>\n",
       "      <td>0.0</td>\n",
       "      <td>0.0</td>\n",
       "      <td>4.0</td>\n",
       "      <td>3.001095</td>\n",
       "    </tr>\n",
       "    <tr>\n",
       "      <th>1</th>\n",
       "      <td>0.0</td>\n",
       "      <td>0.0</td>\n",
       "      <td>0.0</td>\n",
       "      <td>0.0</td>\n",
       "      <td>0.0</td>\n",
       "      <td>0.0</td>\n",
       "      <td>0.0</td>\n",
       "      <td>0.0</td>\n",
       "      <td>0.0</td>\n",
       "      <td>0.0</td>\n",
       "      <td>0.0</td>\n",
       "      <td>1.0</td>\n",
       "      <td>0.0</td>\n",
       "      <td>2.0</td>\n",
       "      <td>2.906091</td>\n",
       "    </tr>\n",
       "    <tr>\n",
       "      <th>2</th>\n",
       "      <td>0.0</td>\n",
       "      <td>0.0</td>\n",
       "      <td>0.0</td>\n",
       "      <td>0.0</td>\n",
       "      <td>0.0</td>\n",
       "      <td>0.0</td>\n",
       "      <td>0.0</td>\n",
       "      <td>0.0</td>\n",
       "      <td>0.0</td>\n",
       "      <td>0.0</td>\n",
       "      <td>1.0</td>\n",
       "      <td>0.0</td>\n",
       "      <td>0.0</td>\n",
       "      <td>5.0</td>\n",
       "      <td>2.336067</td>\n",
       "    </tr>\n",
       "  </tbody>\n",
       "</table>\n",
       "</div>"
      ],
      "text/plain": [
       "   55c66225-fbe7-4fd5-9072-eab1ece5e23e  6c84fd89-3f11-4782-9b50-97c468b19529  \\\n",
       "0                                   0.0                                   0.0   \n",
       "1                                   0.0                                   0.0   \n",
       "2                                   0.0                                   0.0   \n",
       "\n",
       "   6d318bcc-22a3-4af6-bddd-b409bfce1546  6f72dfc5-27f1-42e8-84db-ccc7a75f6969  \\\n",
       "0                                   0.0                                   0.0   \n",
       "1                                   0.0                                   0.0   \n",
       "2                                   0.0                                   0.0   \n",
       "\n",
       "   8cf7e821-f0d3-49c6-8eba-e679c0ebcf6a  997acbb5-e102-41e1-b155-9df7de0a73f2  \\\n",
       "0                                   0.0                                   0.0   \n",
       "1                                   0.0                                   0.0   \n",
       "2                                   0.0                                   0.0   \n",
       "\n",
       "   9a0e7b09-b92b-4c41-9779-2ad22b4d779d  lyft  lyft_line  lyft_lux  \\\n",
       "0                                   0.0   0.0        0.0       1.0   \n",
       "1                                   0.0   0.0        0.0       0.0   \n",
       "2                                   0.0   0.0        0.0       0.0   \n",
       "\n",
       "   lyft_luxsuv  lyft_plus  lyft_premier  surge_multiplier  distance  \n",
       "0          0.0        0.0           0.0               4.0  3.001095  \n",
       "1          0.0        1.0           0.0               2.0  2.906091  \n",
       "2          1.0        0.0           0.0               5.0  2.336067  "
      ]
     },
     "execution_count": 24,
     "metadata": {},
     "output_type": "execute_result"
    }
   ],
   "source": [
    "# Concatting all attributes\n",
    "data_predict = pd.concat([cat_ohe,cat_ord,num_scaled], axis=1)\n",
    "data_predict"
   ]
  },
  {
   "cell_type": "code",
   "execution_count": 27,
   "metadata": {},
   "outputs": [],
   "source": [
    "# Resorting the DataFrame to be same as the X Train\n",
    "popped = data_predict.pop('surge_multiplier')\n",
    "data_predict.insert(0,'surge_multiplier',popped)"
   ]
  },
  {
   "cell_type": "code",
   "execution_count": 28,
   "metadata": {},
   "outputs": [
    {
     "name": "stdout",
     "output_type": "stream",
     "text": [
      "[49.17599207 31.85909811 61.25001485]\n"
     ]
    }
   ],
   "source": [
    "# Predict price model\n",
    "\n",
    "model = regression_model.predict(data_predict)\n",
    "print(model)"
   ]
  },
  {
   "attachments": {},
   "cell_type": "markdown",
   "metadata": {},
   "source": [
    "This is the price prediction based on the given data inference"
   ]
  }
 ],
 "metadata": {
  "kernelspec": {
   "display_name": "base",
   "language": "python",
   "name": "python3"
  },
  "language_info": {
   "codemirror_mode": {
    "name": "ipython",
    "version": 3
   },
   "file_extension": ".py",
   "mimetype": "text/x-python",
   "name": "python",
   "nbconvert_exporter": "python",
   "pygments_lexer": "ipython3",
   "version": "3.10.8"
  },
  "orig_nbformat": 4
 },
 "nbformat": 4,
 "nbformat_minor": 2
}
